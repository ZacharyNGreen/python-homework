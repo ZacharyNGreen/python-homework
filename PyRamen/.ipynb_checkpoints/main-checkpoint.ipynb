{
 "cells": [
  {
   "cell_type": "code",
   "execution_count": 32,
   "metadata": {},
   "outputs": [
    {
     "name": "stdout",
     "output_type": "stream",
     "text": [
      "{'spicy miso ramen': {'01-count': 9238, '02-revenue': 110856.0, '03-cogs': 46190, '04-profit': 64666.0}, 'tori paitan ramen': {'01-count': 9156, '02-revenue': 119028.0, '03-cogs': 54936, '04-profit': 64092.0}, 'truffle butter ramen': {'01-count': 8982, '02-revenue': 125748.0, '03-cogs': 62874, '04-profit': 62874.0}, 'tonkotsu ramen': {'01-count': 9288, '02-revenue': 120744.0, '03-cogs': 55728, '04-profit': 65016.0}, 'vegetarian spicy miso': {'01-count': 9216, '02-revenue': 110592.0, '03-cogs': 46080, '04-profit': 64512.0}, 'shio ramen': {'01-count': 9180, '02-revenue': 100980.0, '03-cogs': 45900, '04-profit': 55080.0}, 'miso crab ramen': {'01-count': 8890, '02-revenue': 106680.0, '03-cogs': 53340, '04-profit': 53340.0}, 'nagomi shoyu': {'01-count': 9132, '02-revenue': 100452.0, '03-cogs': 45660, '04-profit': 54792.0}, 'soft-shell miso crab ramen': {'01-count': 9130, '02-revenue': 127820.0, '03-cogs': 63910, '04-profit': 63910.0}, 'burnt garlic tonkotsu ramen': {'01-count': 9070, '02-revenue': 126980.0, '03-cogs': 54420, '04-profit': 72560.0}, 'vegetarian curry + king trumpet mushroom ramen': {'01-count': 8824, '02-revenue': 114712.0, '03-cogs': 61768, '04-profit': 52944.0}}\n"
     ]
    }
   ],
   "source": [
    "#PyRamen HW assignment\n",
    "\n",
    "from pathlib import Path\n",
    "import csv\n",
    "#import json\n",
    "\n",
    "#print(f\"current working directory {Path.cwd()}\")\n",
    "\n",
    "menupath = Path(\"./Resources/menu_data.csv\")\n",
    "\n",
    "menu=[]\n",
    "sales=[]\n",
    "\n",
    "#open up the menu file and capture the menu data\n",
    "with open(menupath, \"r\") as menufile:\n",
    "    csvreader=csv.reader(menufile,delimiter=\",\")\n",
    "    \n",
    "    header =next(csvreader)\n",
    "    \n",
    "    for item in csvreader:\n",
    "        menu.append(item)\n",
    "\n",
    "#print(menu)\n",
    "\n",
    "\n",
    "#open up the sales file and capture the sales data\n",
    "salespath = Path(\"./Resources/sales_data.csv\")\n",
    "\n",
    "with open(salespath, \"r\") as salesfile: \n",
    "    csvreader=csv.reader(salesfile, delimiter=\",\")\n",
    "    \n",
    "    header =next(csvreader)\n",
    "    \n",
    "    for item in csvreader:\n",
    "        sales.append(item)\n",
    "\n",
    "#print(sales[100])\n",
    "\n",
    "report = {}\n",
    "\n",
    "#go through each sale and calculate the quantity and item sold\n",
    "for sale in sales:\n",
    "    quantity = int(sale[3])\n",
    "    sale_item = sale[4]\n",
    "    \n",
    "    #if the item sold not in report add to report\n",
    "    if not sale_item in report:\n",
    "        report[sale_item] = {\"01-count\":0, \"02-revenue\":0, \"03-cogs\":0, \"04-profit\":0}\n",
    "\n",
    "    #go through each item in menu and get price and cost info\n",
    "    for choice in menu:\n",
    "        menu_item=choice[0]\n",
    "        price=float(choice[3])\n",
    "        cost=int(choice[4])\n",
    "        \n",
    "        #update report\n",
    "        if sale_item==menu_item:\n",
    "            profit=quantity*(price-cost)\n",
    "            report[sale_item][\"01-count\"] += quantity\n",
    "            report[sale_item][\"02-revenue\"] +=price*quantity\n",
    "            report[sale_item][\"03-cogs\"]+=cost*quantity\n",
    "            report[sale_item][\"04-profit\"]+=profit\n",
    "        #else:\n",
    "            #print(f\"{sale_item} does not equal {menu_item}! NO MATCH\")\n",
    "\n",
    "print(report)\n",
    "            \n",
    "output_path=Path(\"ramen_output.txt\")\n",
    "\n",
    "#write the report to a file\n",
    "with open(output_path, \"w\" ) as file:\n",
    "    for report_item in report:\n",
    "        file.write(f\"{str(report_item)} {str(report[report_item])}\\n\")\n",
    "       \n",
    "        \n",
    "#print(report)\n",
    "    \n",
    "\n",
    "\n",
    "            "
   ]
  },
  {
   "cell_type": "code",
   "execution_count": null,
   "metadata": {},
   "outputs": [],
   "source": []
  },
  {
   "cell_type": "code",
   "execution_count": null,
   "metadata": {},
   "outputs": [],
   "source": []
  }
 ],
 "metadata": {
  "kernelspec": {
   "display_name": "Python 3",
   "language": "python",
   "name": "python3"
  },
  "language_info": {
   "codemirror_mode": {
    "name": "ipython",
    "version": 3
   },
   "file_extension": ".py",
   "mimetype": "text/x-python",
   "name": "python",
   "nbconvert_exporter": "python",
   "pygments_lexer": "ipython3",
   "version": "3.8.3"
  }
 },
 "nbformat": 4,
 "nbformat_minor": 4
}
